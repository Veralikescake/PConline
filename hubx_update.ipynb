{
 "cells": [
  {
   "cell_type": "code",
   "execution_count": 35,
   "metadata": {},
   "outputs": [],
   "source": [
    "from selenium import webdriver\n",
    "from selenium.webdriver.chrome.service import Service\n",
    "from webdriver_manager.chrome import ChromeDriverManager\n",
    "from selenium.webdriver.common.by import By\n",
    "from selenium.webdriver.support.ui import WebDriverWait\n",
    "from selenium.webdriver.support import expected_conditions as EC\n",
    "from selenium.webdriver.common.action_chains import ActionChains\n",
    "from selenium.webdriver.common.keys import Keys\n",
    "import pandas as pd\n",
    "import time\n",
    "import os"
   ]
  },
  {
   "cell_type": "code",
   "execution_count": 45,
   "metadata": {},
   "outputs": [],
   "source": [
    "# Creating a new Chrome browser instance\n",
    "s = Service(ChromeDriverManager().install())\n",
    "driver = webdriver.Chrome(service=s)"
   ]
  },
  {
   "cell_type": "code",
   "execution_count": 46,
   "metadata": {},
   "outputs": [],
   "source": [
    "website = \"https://hubx.com/vendor-login\"\n",
    "username = \"b2b@pconline365.com\"\n",
    "password = \"Prides700\"\n",
    "login_xpath = '//a[span=\"Vendor Login\"]'\n",
    "listing_xpath = '//span[text()=\"Product Listings\"]/parent::a'\n",
    "searchbox_id = 'search-items-input'\n",
    "inventory_input_xpath = '//input[@formcontrolname=\"inventory_availableToSell\"]'\n",
    "save_button_xpath = '//a[div=\"Save\"]'"
   ]
  },
  {
   "cell_type": "code",
   "execution_count": 47,
   "metadata": {},
   "outputs": [],
   "source": [
    "# Navigate to the website's login page\n",
    "driver.get(website)\n",
    "\n",
    "# Find the username field, enter the username and click login\n",
    "email = driver.find_element(By.NAME, 'email').send_keys(username)\n",
    "password = driver.find_element(By.NAME, 'password').send_keys(password)\n",
    "login_button = driver.find_element(By.XPATH, login_xpath).click()"
   ]
  },
  {
   "cell_type": "code",
   "execution_count": 48,
   "metadata": {},
   "outputs": [],
   "source": [
    "wait = WebDriverWait(driver, 5)\n",
    "close_button = wait.until(EC.element_to_be_clickable((By.CLASS_NAME, 'modal-content__close')))\n",
    "close_button.click()\n",
    "\n",
    "# navigate to product listing\n",
    "product_listings_button = wait.until(EC.element_to_be_clickable((By.XPATH, listing_xpath)))\n",
    "product_listings_button.click()"
   ]
  },
  {
   "cell_type": "code",
   "execution_count": 49,
   "metadata": {},
   "outputs": [
    {
     "ename": "TimeoutException",
     "evalue": "Message: \nStacktrace:\n0   chromedriver                        0x0000000102e786b8 chromedriver + 6149816\n1   chromedriver                        0x0000000102e6fcda chromedriver + 6114522\n2   chromedriver                        0x00000001028fcd5c chromedriver + 400732\n3   chromedriver                        0x0000000102949aa5 chromedriver + 715429\n4   chromedriver                        0x0000000102949bf1 chromedriver + 715761\n5   chromedriver                        0x000000010298edd4 chromedriver + 998868\n6   chromedriver                        0x000000010296ccdd chromedriver + 859357\n7   chromedriver                        0x000000010298c0db chromedriver + 987355\n8   chromedriver                        0x000000010296ca53 chromedriver + 858707\n9   chromedriver                        0x000000010293c6d5 chromedriver + 661205\n10  chromedriver                        0x000000010293cf6e chromedriver + 663406\n11  chromedriver                        0x0000000102e39cf0 chromedriver + 5893360\n12  chromedriver                        0x0000000102e3f4bc chromedriver + 5915836\n13  chromedriver                        0x0000000102e1b8b4 chromedriver + 5769396\n14  chromedriver                        0x0000000102e3ff89 chromedriver + 5918601\n15  chromedriver                        0x0000000102e0cec4 chromedriver + 5709508\n16  chromedriver                        0x0000000102e60008 chromedriver + 6049800\n17  chromedriver                        0x0000000102e601c7 chromedriver + 6050247\n18  chromedriver                        0x0000000102e6f88e chromedriver + 6113422\n19  libsystem_pthread.dylib             0x00007ff80b40818b _pthread_start + 99\n20  libsystem_pthread.dylib             0x00007ff80b403ae3 thread_start + 15\n",
     "output_type": "error",
     "traceback": [
      "\u001b[0;31m---------------------------------------------------------------------------\u001b[0m",
      "\u001b[0;31mTimeoutException\u001b[0m                          Traceback (most recent call last)",
      "Cell \u001b[0;32mIn[49], line 33\u001b[0m\n\u001b[1;32m     31\u001b[0m \u001b[38;5;66;03m# Wait for the save to complete by looking for completion signal\u001b[39;00m\n\u001b[1;32m     32\u001b[0m success_message_locator \u001b[38;5;241m=\u001b[39m (By\u001b[38;5;241m.\u001b[39mXPATH, \u001b[38;5;124m'\u001b[39m\u001b[38;5;124m//h3[text()=\u001b[39m\u001b[38;5;124m\"\u001b[39m\u001b[38;5;124mSuccessful Update\u001b[39m\u001b[38;5;124m\"\u001b[39m\u001b[38;5;124m]\u001b[39m\u001b[38;5;124m'\u001b[39m)\n\u001b[0;32m---> 33\u001b[0m \u001b[43mwait\u001b[49m\u001b[38;5;241;43m.\u001b[39;49m\u001b[43muntil\u001b[49m\u001b[43m(\u001b[49m\u001b[43mEC\u001b[49m\u001b[38;5;241;43m.\u001b[39;49m\u001b[43mpresence_of_element_located\u001b[49m\u001b[43m(\u001b[49m\u001b[43msuccess_message_locator\u001b[49m\u001b[43m)\u001b[49m\u001b[43m)\u001b[49m\n\u001b[1;32m     34\u001b[0m time\u001b[38;5;241m.\u001b[39msleep(\u001b[38;5;241m1\u001b[39m)\n\u001b[1;32m     36\u001b[0m \u001b[38;5;66;03m# find the Continue button and click it\u001b[39;00m\n",
      "File \u001b[0;32m~/UW/实习/pconline/coding/.venv/lib/python3.9/site-packages/selenium/webdriver/support/wait.py:105\u001b[0m, in \u001b[0;36mWebDriverWait.until\u001b[0;34m(self, method, message)\u001b[0m\n\u001b[1;32m    103\u001b[0m     \u001b[38;5;28;01mif\u001b[39;00m time\u001b[38;5;241m.\u001b[39mmonotonic() \u001b[38;5;241m>\u001b[39m end_time:\n\u001b[1;32m    104\u001b[0m         \u001b[38;5;28;01mbreak\u001b[39;00m\n\u001b[0;32m--> 105\u001b[0m \u001b[38;5;28;01mraise\u001b[39;00m TimeoutException(message, screen, stacktrace)\n",
      "\u001b[0;31mTimeoutException\u001b[0m: Message: \nStacktrace:\n0   chromedriver                        0x0000000102e786b8 chromedriver + 6149816\n1   chromedriver                        0x0000000102e6fcda chromedriver + 6114522\n2   chromedriver                        0x00000001028fcd5c chromedriver + 400732\n3   chromedriver                        0x0000000102949aa5 chromedriver + 715429\n4   chromedriver                        0x0000000102949bf1 chromedriver + 715761\n5   chromedriver                        0x000000010298edd4 chromedriver + 998868\n6   chromedriver                        0x000000010296ccdd chromedriver + 859357\n7   chromedriver                        0x000000010298c0db chromedriver + 987355\n8   chromedriver                        0x000000010296ca53 chromedriver + 858707\n9   chromedriver                        0x000000010293c6d5 chromedriver + 661205\n10  chromedriver                        0x000000010293cf6e chromedriver + 663406\n11  chromedriver                        0x0000000102e39cf0 chromedriver + 5893360\n12  chromedriver                        0x0000000102e3f4bc chromedriver + 5915836\n13  chromedriver                        0x0000000102e1b8b4 chromedriver + 5769396\n14  chromedriver                        0x0000000102e3ff89 chromedriver + 5918601\n15  chromedriver                        0x0000000102e0cec4 chromedriver + 5709508\n16  chromedriver                        0x0000000102e60008 chromedriver + 6049800\n17  chromedriver                        0x0000000102e601c7 chromedriver + 6050247\n18  chromedriver                        0x0000000102e6f88e chromedriver + 6113422\n19  libsystem_pthread.dylib             0x00007ff80b40818b _pthread_start + 99\n20  libsystem_pthread.dylib             0x00007ff80b403ae3 thread_start + 15\n"
     ]
    }
   ],
   "source": [
    "# time.sleep(10)\n",
    "\n",
    "df = pd.read_excel('listing_test.xlsx')\n",
    "\n",
    "i = 0\n",
    "# Assuming df is the DataFrame loaded from Excel file\n",
    "for index, row in df.iterrows():\n",
    "    # Find search box, enter product id and hit enter\n",
    "    wait = WebDriverWait(driver, 10)\n",
    "    search_box = wait.until(EC.presence_of_element_located((By.ID, searchbox_id))) \n",
    "\n",
    "    # If search box is not cleared by the site after search, explicitly clear it\n",
    "    search_box.clear()\n",
    "    \n",
    "    search_box.send_keys(row['Hubx Item Code']) \n",
    "    search_box.send_keys(Keys.RETURN)\n",
    "\n",
    "    # Wait for the search results to show up\n",
    "    inventory_input_field = wait.until(EC.presence_of_element_located((By.XPATH, inventory_input_xpath)))\n",
    "\n",
    "    # Clear current inventory and enter new inventory count\n",
    "    inventory_input_field.clear()\n",
    "    inventory_input_field.send_keys(row['Inventory']) \n",
    "    \n",
    "    # Click save button\n",
    "    save_button = driver.find_element(By.XPATH, save_button_xpath)  # Update with the actual locator or text of the save button, may need to wait until this is clickable or visible\n",
    "    save_button.click()\n",
    "    \n",
    "    time.sleep(8)\n",
    "\n",
    "    # Wait for the save to complete by looking for completion signal\n",
    "    success_message_locator = (By.XPATH, '//h3[text()=\"Successful Update\"]')\n",
    "    wait.until(EC.presence_of_element_located(success_message_locator))\n",
    "    time.sleep(1)\n",
    "\n",
    "    # find the Continue button and click it\n",
    "    continue_button = driver.find_element(By.XPATH, '//a[contains(text(), \"Continue\")]')\n",
    "    continue_button.click()\n",
    "\n",
    "    i += 1\n",
    "\n",
    "print(f'{i} inventories has been updated!')\n"
   ]
  },
  {
   "cell_type": "code",
   "execution_count": null,
   "metadata": {},
   "outputs": [],
   "source": [
    "driver.quit()"
   ]
  }
 ],
 "metadata": {
  "kernelspec": {
   "display_name": ".venv",
   "language": "python",
   "name": "python3"
  },
  "language_info": {
   "codemirror_mode": {
    "name": "ipython",
    "version": 3
   },
   "file_extension": ".py",
   "mimetype": "text/x-python",
   "name": "python",
   "nbconvert_exporter": "python",
   "pygments_lexer": "ipython3",
   "version": "3.9.6"
  }
 },
 "nbformat": 4,
 "nbformat_minor": 2
}

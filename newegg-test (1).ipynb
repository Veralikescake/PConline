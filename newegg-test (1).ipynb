{
 "cells": [
  {
   "cell_type": "code",
   "execution_count": 1,
   "metadata": {},
   "outputs": [
    {
     "name": "stderr",
     "output_type": "stream",
     "text": [
      "/Users/vera/UW/实习/pconline/coding/.venv/lib/python3.9/site-packages/urllib3/__init__.py:35: NotOpenSSLWarning: urllib3 v2 only supports OpenSSL 1.1.1+, currently the 'ssl' module is compiled with 'LibreSSL 2.8.3'. See: https://github.com/urllib3/urllib3/issues/3020\n",
      "  warnings.warn(\n"
     ]
    }
   ],
   "source": [
    "from selenium import webdriver\n",
    "from selenium.webdriver.chrome.service import Service\n",
    "from webdriver_manager.chrome import ChromeDriverManager\n",
    "from selenium.webdriver.common.by import By\n",
    "from selenium.webdriver.support.ui import WebDriverWait\n",
    "from selenium.webdriver.support import expected_conditions as EC\n",
    "from selenium.webdriver.common.action_chains import ActionChains\n",
    "import time\n",
    "import os"
   ]
  },
  {
   "cell_type": "code",
   "execution_count": 2,
   "metadata": {},
   "outputs": [],
   "source": [
    "# Creating a new Chrome browser instance\n",
    "s = Service(ChromeDriverManager().install())\n",
    "driver = webdriver.Chrome(service=s)"
   ]
  },
  {
   "cell_type": "code",
   "execution_count": 3,
   "metadata": {},
   "outputs": [],
   "source": [
    "website = \"https://partner.newegg.com/euf/sellerportal/sign-in?returnUrl=https%3A%2F%2Fsellerportal.newegg.com%2Fv3\"\n",
    "username = \"xx\"\n",
    "password = \"xx\"\n",
    "username_id = \"labeled-input-signEmail\"\n",
    "signin_button_id = 'signInSubmit'\n",
    "password_id = 'labeled-input-password'\n",
    "side_icon_xpath = '//euf-icons[@type=\"menu\"]'\n",
    "items_xpath = \"//span[contains(text(), 'Items')]\"\n",
    "inventory_xpath = \"//span[contains(text(), 'Pricing & Inventory')]\"\n",
    "export_xpath =  '//*[@id=\"mpsPageTopBar\"]/div[2]/div/div/mps-list-header/div[1]/div/div[2]/div/div[6]/nz-form-item/nz-form-control/div/div/button'"
   ]
  },
  {
   "cell_type": "code",
   "execution_count": 4,
   "metadata": {},
   "outputs": [],
   "source": [
    "# Navigate to the website's login page\n",
    "driver.get(website)\n",
    "\n",
    "# Find the username field, enter the username and click login\n",
    "driver.switch_to.frame(0)\n",
    "driver.find_element(By.ID, username_id).send_keys(username)\n",
    "driver.find_element(By.ID, signin_button_id).click()\n",
    "\n",
    "# switch back\n",
    "driver.switch_to.default_content()"
   ]
  },
  {
   "cell_type": "code",
   "execution_count": 5,
   "metadata": {},
   "outputs": [],
   "source": [
    "wait = WebDriverWait(driver, 5)\n",
    "wait.until(EC.frame_to_be_available_and_switch_to_it((By.XPATH, '//*[@id=\"content\"]/iframe')))\n",
    "# driver.switch_to.frame(0)\n",
    "wait.until(EC.presence_of_element_located((By.ID, password_id))).send_keys(password)\n",
    "wait.until(EC.element_to_be_clickable((By.ID, signin_button_id))).click()\n",
    "# driver.find_element(By.ID, signin_button_id).click()\n",
    "\n",
    "driver.switch_to.default_content()"
   ]
  },
  {
   "cell_type": "code",
   "execution_count": 6,
   "metadata": {},
   "outputs": [],
   "source": [
    "# main page\n",
    "wait = WebDriverWait(driver, 10)\n",
    "\n",
    "wait.until(EC.element_to_be_clickable((By.XPATH, side_icon_xpath)))\n",
    "driver.find_element(By.XPATH, side_icon_xpath).click()\n",
    "\n",
    "wait.until(EC.element_to_be_clickable((By.XPATH, items_xpath)))\n",
    "driver.find_element(By.XPATH, items_xpath).click()\n",
    "\n",
    "wait.until(EC.element_to_be_clickable((By.XPATH, inventory_xpath)))\n",
    "driver.find_element(By.XPATH, inventory_xpath).click()"
   ]
  },
  {
   "cell_type": "code",
   "execution_count": 7,
   "metadata": {},
   "outputs": [
    {
     "ename": "FileNotFoundError",
     "evalue": "[Errno 2] No such file or directory: 'c:\\\\Users\\\\VeraHu\\\\Downloads\\\\'",
     "output_type": "error",
     "traceback": [
      "\u001b[0;31m---------------------------------------------------------------------------\u001b[0m",
      "\u001b[0;31mFileNotFoundError\u001b[0m                         Traceback (most recent call last)",
      "Cell \u001b[0;32mIn[7], line 4\u001b[0m\n\u001b[1;32m      2\u001b[0m download_dir \u001b[38;5;241m=\u001b[39m \u001b[38;5;124m'\u001b[39m\u001b[38;5;124mc:\u001b[39m\u001b[38;5;130;01m\\\\\u001b[39;00m\u001b[38;5;124mUsers\u001b[39m\u001b[38;5;130;01m\\\\\u001b[39;00m\u001b[38;5;124mVeraHu\u001b[39m\u001b[38;5;130;01m\\\\\u001b[39;00m\u001b[38;5;124mDownloads\u001b[39m\u001b[38;5;130;01m\\\\\u001b[39;00m\u001b[38;5;124m'\u001b[39m\n\u001b[1;32m      3\u001b[0m \u001b[38;5;66;03m# Get the list of files before downloading\u001b[39;00m\n\u001b[0;32m----> 4\u001b[0m files_start \u001b[38;5;241m=\u001b[39m \u001b[43mos\u001b[49m\u001b[38;5;241;43m.\u001b[39;49m\u001b[43mlistdir\u001b[49m\u001b[43m(\u001b[49m\u001b[43mdownload_dir\u001b[49m\u001b[43m)\u001b[49m\n\u001b[1;32m      6\u001b[0m \u001b[38;5;66;03m# Wait for the \"Export\" button to be clickable and click it\u001b[39;00m\n\u001b[1;32m      7\u001b[0m time\u001b[38;5;241m.\u001b[39msleep(\u001b[38;5;241m10\u001b[39m)\n",
      "\u001b[0;31mFileNotFoundError\u001b[0m: [Errno 2] No such file or directory: 'c:\\\\Users\\\\VeraHu\\\\Downloads\\\\'"
     ]
    }
   ],
   "source": [
    "# Path to the default 'Downloads' directory\n",
    "download_dir = 'c:\\\\Users\\\\VeraHu\\\\Downloads\\\\'\n",
    "# Get the list of files before downloading\n",
    "files_start = os.listdir(download_dir)\n",
    "\n",
    "# Wait for the \"Export\" button to be clickable and click it\n",
    "time.sleep(10)\n",
    "wait = WebDriverWait(driver, 10)\n",
    "wait.until(EC.element_to_be_clickable((By.XPATH, export_xpath)))\n",
    "driver.find_element(By.XPATH, export_xpath).click()\n",
    "\n",
    "# Wait for a new file to be downloaded\n",
    "while True:\n",
    "    time.sleep(1)  # Pause the execution for 1 second\n",
    "    files_end = os.listdir(download_dir)\n",
    "    if len(files_end) > len(files_start):\n",
    "        break\n",
    "\n",
    "# Get the name of the last downloaded file\n",
    "downloaded_file = list(set(files_end) - set(files_start))[0]\n",
    "\n",
    "# Full path to the downloaded file\n",
    "downloaded_file_path = os.path.join(download_dir, downloaded_file) \n",
    "\n",
    "# Specify the new name for the file\n",
    "new_file_name = 'inventory_newegg.xlsx'  # You can replace it by the name you want\n",
    "new_file_path = os.path.join(download_dir, new_file_name)\n",
    "\n",
    "# Rename the downloaded file\n",
    "os.rename(downloaded_file_path, new_file_path)"
   ]
  },
  {
   "cell_type": "code",
   "execution_count": null,
   "metadata": {},
   "outputs": [],
   "source": [
    "driver.quit()"
   ]
  }
 ],
 "metadata": {
  "kernelspec": {
   "display_name": ".venv",
   "language": "python",
   "name": "python3"
  },
  "language_info": {
   "codemirror_mode": {
    "name": "ipython",
    "version": 3
   },
   "file_extension": ".py",
   "mimetype": "text/x-python",
   "name": "python",
   "nbconvert_exporter": "python",
   "pygments_lexer": "ipython3",
   "version": "3.9.6"
  }
 },
 "nbformat": 4,
 "nbformat_minor": 2
}
